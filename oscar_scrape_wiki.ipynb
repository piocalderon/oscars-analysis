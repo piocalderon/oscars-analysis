{
 "cells": [
  {
   "cell_type": "code",
   "execution_count": 133,
   "metadata": {
    "collapsed": true
   },
   "outputs": [],
   "source": [
    "from bs4 import BeautifulSoup, NavigableString, Tag\n",
    "import requests\n",
    "import pandas as pd"
   ]
  },
  {
   "cell_type": "code",
   "execution_count": 35,
   "metadata": {
    "collapsed": true
   },
   "outputs": [],
   "source": [
    "url = 'https://en.wikipedia.org'"
   ]
  },
  {
   "cell_type": "code",
   "execution_count": 3,
   "metadata": {
    "collapsed": true
   },
   "outputs": [],
   "source": [
    "bp = requests.get('https://en.wikipedia.org/wiki/Academy_Award_for_Best_Picture')"
   ]
  },
  {
   "cell_type": "code",
   "execution_count": 94,
   "metadata": {
    "collapsed": true
   },
   "outputs": [],
   "source": [
    "bp_soup = BeautifulSoup(bp.content, 'lxml')"
   ]
  },
  {
   "cell_type": "code",
   "execution_count": 96,
   "metadata": {},
   "outputs": [],
   "source": [
    "noms_by_year = bp_soup.select('table')[2:-6]"
   ]
  },
  {
   "cell_type": "code",
   "execution_count": 135,
   "metadata": {},
   "outputs": [
    {
     "data": {
      "text/plain": [
       "89"
      ]
     },
     "execution_count": 135,
     "metadata": {},
     "output_type": "execute_result"
    }
   ],
   "source": [
    "len(noms_by_year)"
   ]
  },
  {
   "cell_type": "code",
   "execution_count": 149,
   "metadata": {},
   "outputs": [],
   "source": [
    "def extract_plot(soup):\n",
    "    plot = ''\n",
    "    for header in nom_soup.select('div.mw-parser-output > h2')[:1]:\n",
    "        if header.text[:4] == 'Plot':\n",
    "            nextNode = header\n",
    "            while True:\n",
    "                nextNode = nextNode.nextSibling\n",
    "                if nextNode is None:\n",
    "                    break\n",
    "                if isinstance(nextNode, Tag):\n",
    "                    if nextNode.name == \"h2\":\n",
    "                        break\n",
    "                    if nextNode.name == \"p\":\n",
    "                        plot += (nextNode.get_text()) + ' '\n",
    "        else:\n",
    "            break\n",
    "    return plot\n"
   ]
  },
  {
   "cell_type": "code",
   "execution_count": 152,
   "metadata": {},
   "outputs": [
    {
     "name": "stdout",
     "output_type": "stream",
     "text": [
      "0 Wings (1927 film)\n",
      "1 The Broadway Melody\n",
      "2 All Quiet on the Western Front (1930 film)\n",
      "3 Cimarron (1931 film)\n",
      "4 Grand Hotel (1932 film)\n",
      "5 Cavalcade (1933 film)\n",
      "6 It Happened One Night\n",
      "7 Mutiny on the Bounty (1935 film)\n",
      "8 The Great Ziegfeld\n",
      "9 The Life of Emile Zola\n",
      "10 You Can't Take It with You (film)\n",
      "11 Gone with the Wind (film)\n",
      "12 Rebecca (1940 film)\n",
      "13 How Green Was My Valley (film)\n",
      "14 Mrs. Miniver (film)\n",
      "15 Casablanca (film)\n",
      "16 Going My Way\n",
      "17 The Lost Weekend (film)\n",
      "18 The Best Years of Our Lives\n",
      "19 Gentleman's Agreement\n",
      "20 Hamlet (1948 film)\n",
      "21 All the King's Men (1949 film)\n",
      "22 All About Eve\n",
      "23 An American in Paris (film)\n",
      "24 The Greatest Show on Earth (film)\n",
      "25 From Here to Eternity\n",
      "26 On the Waterfront\n",
      "27 Marty (film)\n",
      "28 Around the World in 80 Days (1956 film)\n",
      "29 The Bridge on the River Kwai\n",
      "30 Gigi (1958 film)\n",
      "31 Ben-Hur (1959 film)\n",
      "32 The Apartment\n",
      "33 West Side Story (film)\n",
      "34 Lawrence of Arabia (film)\n",
      "35 Tom Jones (1963 film)\n",
      "36 My Fair Lady (film)\n",
      "37 The Sound of Music (film)\n",
      "38 A Man for All Seasons (1966 film)\n",
      "39 In the Heat of the Night (film)\n",
      "40 Oliver! (film)\n",
      "41 Midnight Cowboy\n",
      "42 Patton (film)\n",
      "43 The French Connection (film)\n",
      "44 The Godfather\n",
      "45 The Sting\n",
      "46 The Godfather Part II\n",
      "47 One Flew Over the Cuckoo's Nest (film)\n",
      "48 Rocky\n",
      "49 Annie Hall\n",
      "50 The Deer Hunter\n",
      "51 Kramer vs. Kramer\n",
      "52 Ordinary People\n",
      "53 Chariots of Fire\n",
      "54 Gandhi (film)\n",
      "55 Terms of Endearment\n",
      "56 Amadeus (film)\n",
      "57 Out of Africa (film)\n",
      "58 Platoon (film)\n",
      "59 The Last Emperor\n",
      "60 Rain Man\n",
      "61 Driving Miss Daisy\n",
      "62 Dances with Wolves\n",
      "63 The Silence of the Lambs (film)\n",
      "64 Unforgiven\n",
      "65 Schindler's List\n",
      "66 Forrest Gump\n",
      "67 Braveheart\n",
      "68 The English Patient (film)\n",
      "69 Titanic (1997 film)\n",
      "70 Shakespeare in Love\n",
      "71 American Beauty (1999 film)\n",
      "72 Gladiator (2000 film)\n",
      "73 A Beautiful Mind (film)\n",
      "74 Chicago (2002 film)\n",
      "75 The Lord of the Rings: The Return of the King\n",
      "76 Million Dollar Baby\n",
      "77 Crash (2004 film)\n",
      "78 The Departed\n",
      "79 No Country for Old Men (film)\n",
      "80 Slumdog Millionaire\n",
      "81 The Hurt Locker\n",
      "82 The King's Speech\n",
      "83 The Artist (film)\n",
      "84 Argo (2012 film)\n",
      "85 12 Years a Slave (film)\n",
      "86 Birdman (film)\n",
      "87 Spotlight (film)\n",
      "88 Moonlight (2016 film)\n"
     ]
    }
   ],
   "source": [
    "nominees = []\n",
    "winners = []\n",
    "for index_year, noms_this_year in enumerate(noms_by_year):\n",
    "    noms = noms_this_year.select('tr td i a')\n",
    "    for index_nom, nom in enumerate(noms):\n",
    "        title = nom['title']\n",
    "        nom_page = requests.get(url + nom['href'])\n",
    "        nom_soup = BeautifulSoup(nom_page.content, 'lxml')\n",
    "        plot = extract_plot(nom_soup)\n",
    "        entry = {'title': title, 'index_year': index_year, 'plot': plot}\n",
    "        if index_nom == 0:\n",
    "            winners.append(entry)\n",
    "            print(index_year, title)\n",
    "        nominees.append(entry)"
   ]
  },
  {
   "cell_type": "code",
   "execution_count": 151,
   "metadata": {},
   "outputs": [
    {
     "data": {
      "text/html": [
       "<div>\n",
       "<style scoped>\n",
       "    .dataframe tbody tr th:only-of-type {\n",
       "        vertical-align: middle;\n",
       "    }\n",
       "\n",
       "    .dataframe tbody tr th {\n",
       "        vertical-align: top;\n",
       "    }\n",
       "\n",
       "    .dataframe thead th {\n",
       "        text-align: right;\n",
       "    }\n",
       "</style>\n",
       "<table border=\"1\" class=\"dataframe\">\n",
       "  <thead>\n",
       "    <tr style=\"text-align: right;\">\n",
       "      <th></th>\n",
       "      <th>index_year</th>\n",
       "      <th>plot</th>\n",
       "      <th>title</th>\n",
       "    </tr>\n",
       "  </thead>\n",
       "  <tbody>\n",
       "    <tr>\n",
       "      <th>0</th>\n",
       "      <td>0</td>\n",
       "      <td>Jack Powell and David Armstrong are rivals in ...</td>\n",
       "      <td>Wings (1927 film)</td>\n",
       "    </tr>\n",
       "    <tr>\n",
       "      <th>1</th>\n",
       "      <td>0</td>\n",
       "      <td></td>\n",
       "      <td>The Racket (1928 film)</td>\n",
       "    </tr>\n",
       "    <tr>\n",
       "      <th>2</th>\n",
       "      <td>0</td>\n",
       "      <td></td>\n",
       "      <td>Seventh Heaven (1927 film)</td>\n",
       "    </tr>\n",
       "    <tr>\n",
       "      <th>3</th>\n",
       "      <td>1</td>\n",
       "      <td>Eddie Kearns (Charles King) sings \"The Broadwa...</td>\n",
       "      <td>The Broadway Melody</td>\n",
       "    </tr>\n",
       "    <tr>\n",
       "      <th>4</th>\n",
       "      <td>1</td>\n",
       "      <td>Joan Manning, the daughter of a police sergean...</td>\n",
       "      <td>Alibi (1929 film)</td>\n",
       "    </tr>\n",
       "    <tr>\n",
       "      <th>5</th>\n",
       "      <td>1</td>\n",
       "      <td></td>\n",
       "      <td>The Hollywood Revue of 1929</td>\n",
       "    </tr>\n",
       "    <tr>\n",
       "      <th>6</th>\n",
       "      <td>1</td>\n",
       "      <td>In Arizona, a bandit known as The Cisco Kid ro...</td>\n",
       "      <td>In Old Arizona</td>\n",
       "    </tr>\n",
       "    <tr>\n",
       "      <th>7</th>\n",
       "      <td>1</td>\n",
       "      <td>In 18th-Century Russia, the Czar, Paul, is sur...</td>\n",
       "      <td>The Patriot (1928 film)</td>\n",
       "    </tr>\n",
       "    <tr>\n",
       "      <th>8</th>\n",
       "      <td>2</td>\n",
       "      <td>Professor Kantorek gives an impassioned speech...</td>\n",
       "      <td>All Quiet on the Western Front (1930 film)</td>\n",
       "    </tr>\n",
       "    <tr>\n",
       "      <th>9</th>\n",
       "      <td>2</td>\n",
       "      <td>Kent (Robert Montgomery), a drunk driver who c...</td>\n",
       "      <td>The Big House (1930 film)</td>\n",
       "    </tr>\n",
       "  </tbody>\n",
       "</table>\n",
       "</div>"
      ],
      "text/plain": [
       "   index_year                                               plot  \\\n",
       "0           0  Jack Powell and David Armstrong are rivals in ...   \n",
       "1           0                                                      \n",
       "2           0                                                      \n",
       "3           1  Eddie Kearns (Charles King) sings \"The Broadwa...   \n",
       "4           1  Joan Manning, the daughter of a police sergean...   \n",
       "5           1                                                      \n",
       "6           1  In Arizona, a bandit known as The Cisco Kid ro...   \n",
       "7           1  In 18th-Century Russia, the Czar, Paul, is sur...   \n",
       "8           2  Professor Kantorek gives an impassioned speech...   \n",
       "9           2  Kent (Robert Montgomery), a drunk driver who c...   \n",
       "\n",
       "                                        title  \n",
       "0                           Wings (1927 film)  \n",
       "1                      The Racket (1928 film)  \n",
       "2                  Seventh Heaven (1927 film)  \n",
       "3                         The Broadway Melody  \n",
       "4                           Alibi (1929 film)  \n",
       "5                 The Hollywood Revue of 1929  \n",
       "6                              In Old Arizona  \n",
       "7                     The Patriot (1928 film)  \n",
       "8  All Quiet on the Western Front (1930 film)  \n",
       "9                   The Big House (1930 film)  "
      ]
     },
     "execution_count": 151,
     "metadata": {},
     "output_type": "execute_result"
    }
   ],
   "source": [
    "pd.DataFrame(nominees)"
   ]
  },
  {
   "cell_type": "code",
   "execution_count": null,
   "metadata": {
    "collapsed": true
   },
   "outputs": [],
   "source": []
  }
 ],
 "metadata": {
  "kernelspec": {
   "display_name": "Python 3",
   "language": "python",
   "name": "python3"
  },
  "language_info": {
   "codemirror_mode": {
    "name": "ipython",
    "version": 3
   },
   "file_extension": ".py",
   "mimetype": "text/x-python",
   "name": "python",
   "nbconvert_exporter": "python",
   "pygments_lexer": "ipython3",
   "version": "3.6.1"
  }
 },
 "nbformat": 4,
 "nbformat_minor": 2
}
