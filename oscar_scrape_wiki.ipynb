{
 "cells": [
  {
   "cell_type": "code",
   "execution_count": 204,
   "metadata": {
    "collapsed": true
   },
   "outputs": [],
   "source": [
    "from bs4 import BeautifulSoup, NavigableString, Tag\n",
    "import requests\n",
    "import pandas as pd\n",
    "%matplotlib inline"
   ]
  },
  {
   "cell_type": "code",
   "execution_count": 205,
   "metadata": {
    "collapsed": true
   },
   "outputs": [],
   "source": [
    "url = 'https://en.wikipedia.org'"
   ]
  },
  {
   "cell_type": "code",
   "execution_count": 206,
   "metadata": {
    "collapsed": true
   },
   "outputs": [],
   "source": [
    "bp = requests.get('https://en.wikipedia.org/wiki/Academy_Award_for_Best_Picture')"
   ]
  },
  {
   "cell_type": "code",
   "execution_count": 207,
   "metadata": {
    "collapsed": true
   },
   "outputs": [],
   "source": [
    "bp_soup = BeautifulSoup(bp.content, 'lxml')"
   ]
  },
  {
   "cell_type": "code",
   "execution_count": 208,
   "metadata": {},
   "outputs": [],
   "source": [
    "noms_by_year = bp_soup.select('table')[2:-6]"
   ]
  },
  {
   "cell_type": "code",
   "execution_count": 209,
   "metadata": {},
   "outputs": [
    {
     "data": {
      "text/plain": [
       "89"
      ]
     },
     "execution_count": 209,
     "metadata": {},
     "output_type": "execute_result"
    }
   ],
   "source": [
    "len(noms_by_year)"
   ]
  },
  {
   "cell_type": "code",
   "execution_count": 210,
   "metadata": {},
   "outputs": [],
   "source": [
    "def extract_plot(soup):\n",
    "    plot = ''\n",
    "    pos = ['Plot', 'Summ', 'Syno']\n",
    "    for header in nom_soup.select('div.mw-parser-output > h2'):\n",
    "        if header.text[:4] in pos:\n",
    "            nextNode = header\n",
    "            while True:\n",
    "                nextNode = nextNode.nextSibling\n",
    "                if nextNode is None:\n",
    "                    break\n",
    "                if isinstance(nextNode, Tag):\n",
    "                    if nextNode.name == \"h2\":\n",
    "                        break\n",
    "                    if nextNode.name == \"p\":\n",
    "                        plot += (nextNode.get_text()) + ' '\n",
    "            break\n",
    "        else:\n",
    "            continue\n",
    "    return plot\n"
   ]
  },
  {
   "cell_type": "code",
   "execution_count": 211,
   "metadata": {},
   "outputs": [
    {
     "name": "stdout",
     "output_type": "stream",
     "text": [
      "0 Wings (1927 film)\n",
      "1 The Broadway Melody\n",
      "2 All Quiet on the Western Front (1930 film)\n",
      "3 Cimarron (1931 film)\n",
      "4 Grand Hotel (1932 film)\n",
      "5 Cavalcade (1933 film)\n",
      "6 It Happened One Night\n",
      "7 Mutiny on the Bounty (1935 film)\n",
      "8 The Great Ziegfeld\n",
      "9 The Life of Emile Zola\n",
      "10 You Can't Take It with You (film)\n",
      "11 Gone with the Wind (film)\n",
      "12 Rebecca (1940 film)\n",
      "13 How Green Was My Valley (film)\n",
      "14 Mrs. Miniver (film)\n",
      "15 Casablanca (film)\n",
      "16 Going My Way\n",
      "17 The Lost Weekend (film)\n",
      "18 The Best Years of Our Lives\n",
      "19 Gentleman's Agreement\n",
      "20 Hamlet (1948 film)\n",
      "21 All the King's Men (1949 film)\n",
      "22 All About Eve\n",
      "23 An American in Paris (film)\n",
      "24 The Greatest Show on Earth (film)\n",
      "25 From Here to Eternity\n",
      "26 On the Waterfront\n",
      "27 Marty (film)\n",
      "28 Around the World in 80 Days (1956 film)\n",
      "29 The Bridge on the River Kwai\n",
      "30 Gigi (1958 film)\n",
      "31 Ben-Hur (1959 film)\n",
      "32 The Apartment\n",
      "33 West Side Story (film)\n",
      "34 Lawrence of Arabia (film)\n",
      "35 Tom Jones (1963 film)\n",
      "36 My Fair Lady (film)\n",
      "37 The Sound of Music (film)\n",
      "38 A Man for All Seasons (1966 film)\n",
      "39 In the Heat of the Night (film)\n",
      "40 Oliver! (film)\n",
      "41 Midnight Cowboy\n",
      "42 Patton (film)\n",
      "43 The French Connection (film)\n",
      "44 The Godfather\n",
      "45 The Sting\n",
      "46 The Godfather Part II\n",
      "47 One Flew Over the Cuckoo's Nest (film)\n",
      "48 Rocky\n",
      "49 Annie Hall\n",
      "50 The Deer Hunter\n",
      "51 Kramer vs. Kramer\n",
      "52 Ordinary People\n",
      "53 Chariots of Fire\n",
      "54 Gandhi (film)\n",
      "55 Terms of Endearment\n",
      "56 Amadeus (film)\n",
      "57 Out of Africa (film)\n",
      "58 Platoon (film)\n",
      "59 The Last Emperor\n",
      "60 Rain Man\n",
      "61 Driving Miss Daisy\n",
      "62 Dances with Wolves\n",
      "63 The Silence of the Lambs (film)\n",
      "64 Unforgiven\n",
      "65 Schindler's List\n",
      "66 Forrest Gump\n",
      "67 Braveheart\n",
      "68 The English Patient (film)\n",
      "69 Titanic (1997 film)\n",
      "70 Shakespeare in Love\n",
      "71 American Beauty (1999 film)\n",
      "72 Gladiator (2000 film)\n",
      "73 A Beautiful Mind (film)\n",
      "74 Chicago (2002 film)\n",
      "75 The Lord of the Rings: The Return of the King\n",
      "76 Million Dollar Baby\n",
      "77 Crash (2004 film)\n",
      "78 The Departed\n",
      "79 No Country for Old Men (film)\n",
      "80 Slumdog Millionaire\n",
      "81 The Hurt Locker\n",
      "82 The King's Speech\n",
      "83 The Artist (film)\n",
      "84 Argo (2012 film)\n",
      "85 12 Years a Slave (film)\n",
      "86 Birdman (film)\n",
      "87 Spotlight (film)\n",
      "88 Moonlight (2016 film)\n"
     ]
    }
   ],
   "source": [
    "nominees = []\n",
    "winners = []\n",
    "for index_year, noms_this_year in enumerate(noms_by_year):\n",
    "    noms = noms_this_year.select('tr td i a')\n",
    "    for index_nom, nom in enumerate(noms):\n",
    "        title = nom['title']\n",
    "        nom_page = requests.get(url + nom['href'])\n",
    "        nom_soup = BeautifulSoup(nom_page.content, 'lxml')\n",
    "        plot = extract_plot(nom_soup)\n",
    "        entry = {'title': title, 'index_year': index_year, 'plot': plot}\n",
    "        if index_nom == 0:\n",
    "            winners.append(entry)\n",
    "            print(index_year, title)\n",
    "        nominees.append(entry)"
   ]
  },
  {
   "cell_type": "code",
   "execution_count": 212,
   "metadata": {},
   "outputs": [],
   "source": [
    "nominees = pd.DataFrame(nominees)"
   ]
  },
  {
   "cell_type": "code",
   "execution_count": 213,
   "metadata": {
    "collapsed": true
   },
   "outputs": [],
   "source": [
    "winners = pd.DataFrame(winners)"
   ]
  },
  {
   "cell_type": "code",
   "execution_count": 214,
   "metadata": {},
   "outputs": [],
   "source": [
    "nominees['year'] = nominees['index_year'] + 1928\n",
    "winners['year'] = winners['index_year'] + 1928"
   ]
  },
  {
   "cell_type": "code",
   "execution_count": 215,
   "metadata": {},
   "outputs": [],
   "source": [
    "nominees = nominees.drop('index_year', axis=1)\n",
    "winners = winners.drop('index_year', axis=1)"
   ]
  },
  {
   "cell_type": "code",
   "execution_count": 216,
   "metadata": {},
   "outputs": [],
   "source": [
    "nominees.to_csv('nominees.csv', index=False)\n",
    "winners.to_csv('winners.csv', index=False)"
   ]
  },
  {
   "cell_type": "code",
   "execution_count": null,
   "metadata": {
    "collapsed": true
   },
   "outputs": [],
   "source": []
  },
  {
   "cell_type": "code",
   "execution_count": null,
   "metadata": {
    "collapsed": true
   },
   "outputs": [],
   "source": []
  }
 ],
 "metadata": {
  "kernelspec": {
   "display_name": "Python 3",
   "language": "python",
   "name": "python3"
  },
  "language_info": {
   "codemirror_mode": {
    "name": "ipython",
    "version": 3
   },
   "file_extension": ".py",
   "mimetype": "text/x-python",
   "name": "python",
   "nbconvert_exporter": "python",
   "pygments_lexer": "ipython3",
   "version": "3.6.1"
  }
 },
 "nbformat": 4,
 "nbformat_minor": 2
}
